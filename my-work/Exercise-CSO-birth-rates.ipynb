{
 "cells": [
  {
   "cell_type": "markdown",
   "id": "577c8f81",
   "metadata": {},
   "source": [
    "# Birth Rates in Ireland -> CSO Data\n",
    "\n",
    "by Stephen Kerr\n",
    "\n",
    "25/09/2025\n",
    "\n",
    "Source: https://github.com/andrewbeattycourseware/PFDA-courseware/tree/main/code/data"
   ]
  },
  {
   "cell_type": "code",
   "execution_count": 13,
   "id": "3aa1f6db",
   "metadata": {},
   "outputs": [],
   "source": [
    "import pandas as pd # for data analysis \n",
    "import matplotlib.pyplot as plt # for data visulisation  "
   ]
  },
  {
   "cell_type": "code",
   "execution_count": 14,
   "id": "c43af0ab",
   "metadata": {},
   "outputs": [],
   "source": [
    "# Read the CSV file into a DataFrame\n",
    "data = pd.read_csv('data/projectedbirths-cso.csv' )"
   ]
  },
  {
   "cell_type": "code",
   "execution_count": 15,
   "id": "345fd7f4",
   "metadata": {},
   "outputs": [
    {
     "data": {
      "text/html": [
       "<div>\n",
       "<style scoped>\n",
       "    .dataframe tbody tr th:only-of-type {\n",
       "        vertical-align: middle;\n",
       "    }\n",
       "\n",
       "    .dataframe tbody tr th {\n",
       "        vertical-align: top;\n",
       "    }\n",
       "\n",
       "    .dataframe thead th {\n",
       "        text-align: right;\n",
       "    }\n",
       "</style>\n",
       "<table border=\"1\" class=\"dataframe\">\n",
       "  <thead>\n",
       "    <tr style=\"text-align: right;\">\n",
       "      <th></th>\n",
       "      <th>Statistic Label</th>\n",
       "      <th>Year</th>\n",
       "      <th>Sex</th>\n",
       "      <th>Criteria for Projection</th>\n",
       "      <th>UNIT</th>\n",
       "      <th>VALUE</th>\n",
       "    </tr>\n",
       "  </thead>\n",
       "  <tbody>\n",
       "    <tr>\n",
       "      <th>0</th>\n",
       "      <td>Projected Annual Births</td>\n",
       "      <td>2023</td>\n",
       "      <td>Both sexes</td>\n",
       "      <td>Method - M1</td>\n",
       "      <td>Number</td>\n",
       "      <td>57537</td>\n",
       "    </tr>\n",
       "    <tr>\n",
       "      <th>1</th>\n",
       "      <td>Projected Annual Births</td>\n",
       "      <td>2024</td>\n",
       "      <td>Both sexes</td>\n",
       "      <td>Method - M1</td>\n",
       "      <td>Number</td>\n",
       "      <td>55528</td>\n",
       "    </tr>\n",
       "    <tr>\n",
       "      <th>2</th>\n",
       "      <td>Projected Annual Births</td>\n",
       "      <td>2025</td>\n",
       "      <td>Both sexes</td>\n",
       "      <td>Method - M1</td>\n",
       "      <td>Number</td>\n",
       "      <td>55292</td>\n",
       "    </tr>\n",
       "    <tr>\n",
       "      <th>3</th>\n",
       "      <td>Projected Annual Births</td>\n",
       "      <td>2026</td>\n",
       "      <td>Both sexes</td>\n",
       "      <td>Method - M1</td>\n",
       "      <td>Number</td>\n",
       "      <td>55032</td>\n",
       "    </tr>\n",
       "    <tr>\n",
       "      <th>4</th>\n",
       "      <td>Projected Annual Births</td>\n",
       "      <td>2027</td>\n",
       "      <td>Both sexes</td>\n",
       "      <td>Method - M1</td>\n",
       "      <td>Number</td>\n",
       "      <td>54462</td>\n",
       "    </tr>\n",
       "  </tbody>\n",
       "</table>\n",
       "</div>"
      ],
      "text/plain": [
       "           Statistic Label  Year         Sex Criteria for Projection    UNIT  \\\n",
       "0  Projected Annual Births  2023  Both sexes             Method - M1  Number   \n",
       "1  Projected Annual Births  2024  Both sexes             Method - M1  Number   \n",
       "2  Projected Annual Births  2025  Both sexes             Method - M1  Number   \n",
       "3  Projected Annual Births  2026  Both sexes             Method - M1  Number   \n",
       "4  Projected Annual Births  2027  Both sexes             Method - M1  Number   \n",
       "\n",
       "   VALUE  \n",
       "0  57537  \n",
       "1  55528  \n",
       "2  55292  \n",
       "3  55032  \n",
       "4  54462  "
      ]
     },
     "execution_count": 15,
     "metadata": {},
     "output_type": "execute_result"
    }
   ],
   "source": [
    "# Display the first few rows of the DataFrame\n",
    "data.head()"
   ]
  },
  {
   "cell_type": "code",
   "execution_count": 16,
   "id": "ccc984e5",
   "metadata": {},
   "outputs": [
    {
     "data": {
      "text/plain": [
       "Statistic Label            object\n",
       "Year                        int64\n",
       "Sex                        object\n",
       "Criteria for Projection    object\n",
       "UNIT                       object\n",
       "VALUE                       int64\n",
       "dtype: object"
      ]
     },
     "execution_count": 16,
     "metadata": {},
     "output_type": "execute_result"
    }
   ],
   "source": [
    "# dtype of each column\n",
    "data.dtypes"
   ]
  },
  {
   "cell_type": "code",
   "execution_count": 20,
   "id": "73254e46",
   "metadata": {},
   "outputs": [
    {
     "data": {
      "text/plain": [
       "<BarContainer object of 35 artists>"
      ]
     },
     "execution_count": 20,
     "metadata": {},
     "output_type": "execute_result"
    },
    {
     "data": {
      "image/png": "[encoded data removed]",
      "text/plain": [
       "<Figure size 640x480 with 1 Axes>"
      ]
     },
     "metadata": {},
     "output_type": "display_data"
    }
   ],
   "source": [
    "# plot the data in a bar chart x = 'Year', y = 'Projected Births'\n",
    "\n",
    "plt.bar(data['Year'], data['VALUE'])"
   ]
  }
 ],
 "metadata": {
  "kernelspec": {
   "display_name": "Python 3",
   "language": "python",
   "name": "python3"
  },
  "language_info": {
   "codemirror_mode": {
    "name": "ipython",
    "version": 3
   },
   "file_extension": ".py",
   "mimetype": "text/x-python",
   "name": "python",
   "nbconvert_exporter": "python",
   "pygments_lexer": "ipython3",
   "version": "3.13.7"
  }
 },
 "nbformat": 4,
 "nbformat_minor": 5
}
