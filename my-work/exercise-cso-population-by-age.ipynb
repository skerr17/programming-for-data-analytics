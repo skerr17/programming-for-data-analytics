{
 "cells": [
  {
   "cell_type": "markdown",
   "id": "9bf7ad25",
   "metadata": {},
   "source": [
    "# Population by Age in Ireland -> CSO Data\n",
    "\n",
    "by Stephen Kerr\n",
    "\n",
    "25/09/2025\n",
    "\n",
    "Source: https://github.com/andrewbeattycourseware/PFDA-courseware/tree/main/code/data"
   ]
  }
 ],
 "metadata": {
  "language_info": {
   "name": "python"
  }
 },
 "nbformat": 4,
 "nbformat_minor": 5
}
